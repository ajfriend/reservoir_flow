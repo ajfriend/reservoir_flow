{
 "cells": [
  {
   "cell_type": "markdown",
   "metadata": {},
   "source": [
    "# Data format\n",
    "- $m$ nodes, $n$ edges\n",
    "- $A \\in \\mathbf{R}^{m \\times n}$ is an edge incidence matrix such that\n",
    "$$\n",
    "A_{ij}=\n",
    "\\begin{cases}\n",
    "+1 & \\mbox{if edge $j$ leaves node $i$}\\\\\n",
    "-1 & \\mbox{if edge $j$ enters node $i$}\\\\\n",
    "0 & \\mbox{otherwise}\n",
    "\\end{cases}\n",
    "$$\n",
    "\n",
    "- $f \\in \\mathbf{R}^m$ are the  flows in and out of nodes (injectors and producers)\n",
    "    - $f_i > 0$ indicates node $i$ as a injector (flow in)\n",
    "    - $f_i < 0$ indicates node $i$ as a producer (flow out)\n",
    "- $e \\in \\mathbf{R}^n_+$ will denote (nonnegative) flows across edges (to be found)\n",
    "\n",
    "# Feasibility\n",
    "For data $A$ and $f$, there exists some valid flow $e$ across the edges\n",
    "if the following convex problem is feasible.\n",
    "\n",
    "- Data: $A \\in \\mathbf{R}^{m \\times n}$, $f \\in \\mathbf{R}^m$\n",
    "- Variables: $e \\in \\mathbf{R}^n$\n",
    "\\begin{array}{ll}\n",
    "\\mbox{minimize} & 0\\\\\n",
    "\\mbox{subject to} & Ae = f\\\\\n",
    "& e \\geq 0\n",
    "\\end{array}\n",
    "\n",
    "# Feasibility: largest and smallest feasible value\n",
    "Among the feasible solutions to the flow problem, we can maximize and minimize single elements of $e$\n",
    "to see how much the flow could potentially vary.\n",
    "\n",
    "- For some edge $i$, find a flow with the **smallest** possible value of $e_i$\n",
    "\\begin{array}{ll}\n",
    "\\mbox{minimize} & e_i\\\\\n",
    "\\mbox{subject to} & Ae = f\\\\\n",
    "& e \\geq 0\n",
    "\\end{array}\n",
    "\n",
    "- Find a flow with the **largest** possible value of $e_i$\n",
    "\\begin{array}{ll}\n",
    "\\mbox{minimize} & -e_i\\\\\n",
    "\\mbox{subject to} & Ae = f\\\\\n",
    "& e \\geq 0\n",
    "\\end{array}\n",
    "\n",
    "# Extra edges\n",
    "Consider $r$ \"extra\" or potential edges, encoded by edge incidence matrix $B$, in addition to the \"free\" or existing edges given by $A$. Attach some penalty to sending flow across edges given by $B$.\n",
    "\n",
    "- Data: $A \\in \\mathbf{R}^{m \\times n}$, $B \\in \\mathbf{R}^{m \\times r}$, $f \\in \\mathbf{R}^m$\n",
    "- Variables: $e \\in \\mathbf{R}^n$, $c \\in \\mathbf{R}^r$\n",
    "\\begin{array}{ll}\n",
    "\\mbox{minimize} & \\|c\\| \\\\\n",
    "\\mbox{subject to} & Ae + Bc = f\\\\\n",
    "& e \\geq 0\\\\\n",
    "& c \\geq 0\n",
    "\\end{array}\n",
    "\n",
    "- Variations:\n",
    "    - L1 norm (will depend on weighting, but will encourage sparsity, or fewest edges)\n",
    "    - L2 norm (will encourage many edges, but all with \"small\" values)\n",
    "    - weight terms in objective differently, according to some likelihood of a potential edge being nonzero.\n",
    "\n",
    "# Flow measurement errors: fixed range\n",
    "Assume there are some errors in the injector and producer measurements $f$.\n",
    "Add a flow variable $g$, which is allowed to deviate from $f$ by at most some number $\\epsilon$.\n",
    "Find a feasible flow for $g$, if it exists.\n",
    "\n",
    "- Data: $A \\in \\mathbf{R}^{m \\times n}$, $f \\in \\mathbf{R}^m$, $\\epsilon \\in \\mathbf{R}$\n",
    "- Variables: $e \\in \\mathbf{R}^n$, $g \\in \\mathbf{R}^m$\n",
    "\\begin{array}{ll}\n",
    "\\mbox{minimize} & 0 \\\\\n",
    "\\mbox{subject to} & Ae = g\\\\\n",
    "&f - \\epsilon \\leq g \\leq f+\\epsilon\\\\\n",
    "& e \\geq 0\\\\\n",
    "\\end{array}\n",
    "- Variations:\n",
    "    - lower and upper bound *vectors* $f_{u}, f_{l} \\in \\mathbf{R}^m$ with constraint\n",
    "    $f_l \\leq g \\leq f_u$\n",
    "    \n",
    "\n",
    "# Flow measurement errors: penalized deviation\n",
    "Instead of fixing a hard constraint on how much we expect the flows to vary, we can penalize deviation\n",
    "from the observed $f$. In the problem below, the 2-norm would correspond to a model assuming Gaussian errors\n",
    "with identical variance in the measurements. Weighting the elements in the 2-norm corresponds to assigning different\n",
    "variance parameters to each observation (based on, say, confidence in the accuracy of that measurement).\n",
    "\n",
    "- Data: $A \\in \\mathbf{R}^{m \\times n}$, $f \\in \\mathbf{R}^m$\n",
    "- Variables: $e \\in \\mathbf{R}^n$, $g \\in \\mathbf{R}^m$\n",
    "\\begin{array}{ll}\n",
    "\\mbox{minimize} & \\|g - f \\| \\\\\n",
    "\\mbox{subject to} & Ae = g\\\\\n",
    "& e \\geq 0\\\\\n",
    "\\end{array}\n",
    "\n",
    "- Variations:\n",
    "    - L1, L2 norms\n",
    "    - weighted penalty term, corresponding to certainty of measurement\n",
    "    \n",
    "# Model combinations\n",
    "We can pick and choose various elements of the models above and combine them into a single model, if that would make sense."
   ]
  },
  {
   "cell_type": "code",
   "execution_count": 1,
   "metadata": {
    "collapsed": true
   },
   "outputs": [],
   "source": [
    "import numpy as np"
   ]
  },
  {
   "cell_type": "code",
   "execution_count": 2,
   "metadata": {
    "collapsed": false
   },
   "outputs": [],
   "source": [
    "A = np.loadtxt('edge_incidence.txt')\n",
    "f = np.loadtxt('node_flows.txt')"
   ]
  },
  {
   "cell_type": "code",
   "execution_count": 3,
   "metadata": {
    "collapsed": false
   },
   "outputs": [],
   "source": [
    "m, n = A.shape # number of nodes and edges"
   ]
  },
  {
   "cell_type": "code",
   "execution_count": 4,
   "metadata": {
    "collapsed": false
   },
   "outputs": [],
   "source": [
    "import cvxpy as cvx\n",
    "\n",
    "e_max = np.zeros(n)\n",
    "e_min = np.zeros(n)\n",
    "e_max[:] = -np.inf\n",
    "e_min[:] = np.inf\n",
    "\n",
    "\n",
    "for i in range(n):\n",
    "    for sign in [+1, -1]:\n",
    "        e = cvx.Variable(n)\n",
    "        prob = cvx.Problem(cvx.Minimize(sign*e[i]), [e >= 0, A*e == f])\n",
    "        prob.solve(verbose=False)\n",
    "        e = np.array(e.value).flatten()\n",
    "\n",
    "        e_max = np.maximum(e_max, e)\n",
    "        e_min = np.minimum(e_min, e)"
   ]
  },
  {
   "cell_type": "code",
   "execution_count": 5,
   "metadata": {
    "collapsed": false
   },
   "outputs": [
    {
     "data": {
      "text/plain": [
       "array([ 0.   ,  1.419,  1.354,  1.241,  1.442,  1.564,  1.496,  1.202,\n",
       "        0.162,  0.202,  1.009,  1.419,  1.354,  1.241,  1.442,  1.564,\n",
       "        1.496,  1.202,  0.   ,  0.162,  0.202,  0.   ,  1.009,  1.009,\n",
       "        1.135,  1.135,  0.   ,  0.5  ,  0.5  ,  0.5  ])"
      ]
     },
     "execution_count": 5,
     "metadata": {},
     "output_type": "execute_result"
    }
   ],
   "source": [
    "(e_max - e_min).round(3)"
   ]
  },
  {
   "cell_type": "code",
   "execution_count": 6,
   "metadata": {
    "collapsed": false
   },
   "outputs": [
    {
     "name": "stdout",
     "output_type": "stream",
     "text": [
      "\n",
      "ECOS 2.0.4 - (C) embotech GmbH, Zurich Switzerland, 2012-15. Web: www.embotech.com/ECOS\n",
      "\n",
      "It     pcost       dcost      gap   pres   dres    k/t    mu     step   sigma     IR    |   BT\n",
      " 0  +0.000e+00  -0.000e+00  +4e+01  5e-01  8e-01  1e+00  1e+00    ---    ---    1  0  - |  -  - \n",
      " 1  +0.000e+00  +6.683e-01  +9e+00  4e-02  2e-01  8e-01  5e-01  0.8532  2e-01   1  0  0 |  0  0\n",
      " 2  +0.000e+00  +1.557e-02  +6e-01  2e-03  1e-02  2e-02  3e-02  0.9448  6e-03   1  0  0 |  0  0\n",
      " 3  +0.000e+00  +1.734e-04  +7e-03  2e-05  1e-04  2e-04  3e-04  0.9890  1e-04   1  1  1 |  0  0\n",
      " 4  +0.000e+00  +1.907e-06  +8e-05  2e-07  9e-07  3e-06  3e-06  0.9890  1e-04   1  1  1 |  0  0\n",
      " 5  +0.000e+00  +2.780e-08  +1e-06  2e-09  8e-09  4e-08  5e-08  0.9890  1e-04   2  2  2 |  0  0\n",
      " 6  +0.000e+00  +7.995e-10  +2e-08  1e-09  2e-09  9e-10  1e-09  0.9890  1e-04   2  2  2 |  0  0\n",
      " 7  +0.000e+00  +2.987e-11  +8e-10  1e-09  2e-09  3e-11  3e-11  0.9730  1e-04   2  3  2 |  0  0\n",
      "\n",
      "OPTIMAL (within feastol=2.3e-09, reltol=2.7e+01, abstol=8.0e-10).\n",
      "Runtime: 0.000303 seconds.\n",
      "\n"
     ]
    }
   ],
   "source": [
    "e = cvx.Variable(n)\n",
    "prob = cvx.Problem(cvx.Minimize(0), [e >= 0, A*e == f])\n",
    "prob.solve(verbose=True)\n",
    "e = np.array(e.value).flatten()"
   ]
  },
  {
   "cell_type": "code",
   "execution_count": 7,
   "metadata": {
    "collapsed": false
   },
   "outputs": [
    {
     "data": {
      "text/plain": [
       "array([ 0.12,  0.26,  0.28,  0.22,  0.63,  0.57,  1.  ,  0.77,  0.08,\n",
       "        0.1 ,  0.45,  0.28,  0.3 ,  0.23,  0.81,  0.78,  0.5 ,  0.43,\n",
       "        1.3 ,  0.09,  0.11,  0.14,  0.32,  0.24,  0.72,  0.41,  0.48,\n",
       "        0.15,  0.14,  0.2 ])"
      ]
     },
     "execution_count": 7,
     "metadata": {},
     "output_type": "execute_result"
    }
   ],
   "source": [
    "e.round(2)"
   ]
  },
  {
   "cell_type": "code",
   "execution_count": 8,
   "metadata": {
    "collapsed": false
   },
   "outputs": [
    {
     "data": {
      "text/plain": [
       "array([ 0.12,  0.26,  0.28,  0.22,  0.63,  0.57,  1.  ,  0.77,  0.08,\n",
       "        0.1 ,  0.45,  0.28,  0.3 ,  0.23,  0.81,  0.78,  0.5 ,  0.43,\n",
       "        1.3 ,  0.09,  0.11,  0.14,  0.32,  0.24,  0.72,  0.41,  0.48,\n",
       "        0.15,  0.14,  0.2 ])"
      ]
     },
     "execution_count": 8,
     "metadata": {},
     "output_type": "execute_result"
    }
   ],
   "source": [
    "e.round(2)"
   ]
  },
  {
   "cell_type": "code",
   "execution_count": null,
   "metadata": {
    "collapsed": true
   },
   "outputs": [],
   "source": []
  }
 ],
 "metadata": {
  "kernelspec": {
   "display_name": "Python 3",
   "language": "python",
   "name": "python3"
  },
  "language_info": {
   "codemirror_mode": {
    "name": "ipython",
    "version": 3
   },
   "file_extension": ".py",
   "mimetype": "text/x-python",
   "name": "python",
   "nbconvert_exporter": "python",
   "pygments_lexer": "ipython3",
   "version": "3.5.1"
  }
 },
 "nbformat": 4,
 "nbformat_minor": 0
}
